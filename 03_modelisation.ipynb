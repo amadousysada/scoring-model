{
  "nbformat": 4,
  "nbformat_minor": 0,
  "metadata": {
    "colab": {
      "provenance": [],
      "authorship_tag": "ABX9TyOeX8jLOiOFgoUxsAfYc542",
      "include_colab_link": true
    },
    "kernelspec": {
      "name": "python3",
      "display_name": "Python 3"
    },
    "language_info": {
      "name": "python"
    }
  },
  "cells": [
    {
      "cell_type": "markdown",
      "metadata": {
        "id": "view-in-github",
        "colab_type": "text"
      },
      "source": [
        "<a href=\"https://colab.research.google.com/github/amadousysada/scoring-model/blob/master/03_modelisation.ipynb\" target=\"_parent\"><img src=\"https://colab.research.google.com/assets/colab-badge.svg\" alt=\"Open In Colab\"/></a>"
      ]
    },
    {
      "cell_type": "markdown",
      "source": [
        "<p style=\"text-align:center; font-size:3.3em; color:#AD7D67; line-height:5rem; font-style:italic; font-weight:700;\">\n",
        "    Projet N°4 : <br>\n",
        "    Implémentation d'un modèle de scoring </p>\n",
        "<p style=\"text-align:center; font-size:2.8em; color:#9EBEB8; line-height:4rem; font-style:italic; font-weight:700;\">\n",
        "    IV - Modélisation\n",
        "</p>"
      ],
      "metadata": {
        "id": "rGE4sgunbJ60"
      }
    },
    {
      "cell_type": "markdown",
      "source": [
        "# 1. Préparation des données"
      ],
      "metadata": {
        "id": "H3XkPTpvIH38"
      }
    },
    {
      "cell_type": "code",
      "source": [
        "import pandas as pd\n",
        "import numpy as np\n",
        "import seaborn as sns\n",
        "import matplotlib.pyplot as plt\n",
        "from sklearn.model_selection import train_test_split\n",
        "from sklearn.preprocessing import StandardScaler\n",
        "from sklearn.linear_model import LogisticRegression\n",
        "from sklearn.ensemble import RandomForestClassifier\n",
        "from sklearn.metrics import roc_auc_score, accuracy_score, f1_score, roc_curve, auc, make_scorer, confusion_matrix\n",
        "from sklearn.impute import SimpleImputer\n",
        "from sklearn.dummy import DummyClassifier"
      ],
      "metadata": {
        "id": "lZrEJL7ZIDm1"
      },
      "execution_count": 70,
      "outputs": []
    },
    {
      "cell_type": "code",
      "source": [
        "folder_path = \"\" # A ajuster selon le chemin où se trouve vos cvs."
      ],
      "metadata": {
        "id": "9zOTJBYAIhCA"
      },
      "execution_count": 37,
      "outputs": []
    },
    {
      "cell_type": "code",
      "source": [
        "X_train = pd.read_csv(f\"{folder_path}final_cleaned_app_train.csv\")\n",
        "X_test = pd.read_csv(f\"{folder_path}final_cleaned_app_test.csv\")"
      ],
      "metadata": {
        "id": "ExSMWyzMIUO5"
      },
      "execution_count": 38,
      "outputs": []
    },
    {
      "cell_type": "code",
      "source": [
        "X_train.drop(columns=['SK_ID_CURR'], inplace=True)\n",
        "X_test.drop(columns=['SK_ID_CURR'], inplace=True)"
      ],
      "metadata": {
        "id": "jmIk8lgVJUnB"
      },
      "execution_count": 39,
      "outputs": []
    },
    {
      "cell_type": "code",
      "source": [
        "X_train['TARGET'].isna().sum()"
      ],
      "metadata": {
        "id": "rvPmWLC9KVDt",
        "outputId": "53a4cc23-987a-40b2-ab87-9c56285f0034",
        "colab": {
          "base_uri": "https://localhost:8080/"
        }
      },
      "execution_count": 40,
      "outputs": [
        {
          "output_type": "execute_result",
          "data": {
            "text/plain": [
              "0"
            ]
          },
          "metadata": {},
          "execution_count": 40
        }
      ]
    },
    {
      "cell_type": "code",
      "source": [
        "# Séparation de l'ensemble X_train en 2 sous-ensembles\n",
        "y = X_train['TARGET']\n",
        "X_train.drop(labels='TARGET', axis=1, inplace=True)\n",
        "\n",
        "X_Xtrain, X_valid, y_train, y_valid = train_test_split(X_train, y, stratify=y, test_size=0.3, random_state=42)\n",
        "X_Xtrain.shape, X_valid.shape"
      ],
      "metadata": {
        "id": "z6cP3GpxJdWE",
        "outputId": "40448e79-c2d7-4482-bac4-61adef68b90c",
        "colab": {
          "base_uri": "https://localhost:8080/"
        }
      },
      "execution_count": 41,
      "outputs": [
        {
          "output_type": "execute_result",
          "data": {
            "text/plain": [
              "((215257, 15), (92254, 15))"
            ]
          },
          "metadata": {},
          "execution_count": 41
        }
      ]
    },
    {
      "cell_type": "code",
      "source": [
        "print(y.value_counts())\n",
        "fig, ax = plt.subplots()\n",
        "sns.countplot(data=y.to_frame(), x='TARGET', ax=ax, hue='TARGET')\n",
        "xticks = ax.xaxis.get_ticks_position()\n",
        "ax.xaxis.set_ticks([0, 1])\n",
        "plt.show()"
      ],
      "metadata": {
        "id": "sFxwnZCNLare",
        "outputId": "53016d93-19b4-4277-d072-17e3b4442e1f",
        "colab": {
          "base_uri": "https://localhost:8080/",
          "height": 522
        }
      },
      "execution_count": 48,
      "outputs": [
        {
          "output_type": "stream",
          "name": "stdout",
          "text": [
            "TARGET\n",
            "0    282686\n",
            "1     24825\n",
            "Name: count, dtype: int64\n"
          ]
        },
        {
          "output_type": "display_data",
          "data": {
            "text/plain": [
              "<Figure size 640x480 with 1 Axes>"
            ],
            "image/png": "[encoded data removed]"
          },
          "metadata": {}
        }
      ]
    },
    {
      "cell_type": "code",
      "source": [
        "# Le ratio du desequilibre\n",
        "print(f\"imbalance_ratio = {24825 / 282686:.2%}\")"
      ],
      "metadata": {
        "id": "VFenxqkPLu4N",
        "outputId": "57207041-2c22-4363-e02d-bbfc29fb4a57",
        "colab": {
          "base_uri": "https://localhost:8080/"
        }
      },
      "execution_count": 49,
      "outputs": [
        {
          "output_type": "stream",
          "name": "stdout",
          "text": [
            "imbalance_ratio = 8.78%\n"
          ]
        }
      ]
    },
    {
      "cell_type": "code",
      "source": [
        "# Fonction pour calculer le coût métier\n",
        "def business_cost(y_true, y_pred):\n",
        "    \"\"\"\n",
        "    Calcule le coût métier en fonction des faux négatifs et faux positifs.\n",
        "\n",
        "    Paramètres :\n",
        "    y_true (array-like) : Les vraies étiquettes (0 ou 1).\n",
        "    y_pred (array-like) : Les prédictions du modèle (0 ou 1).\n",
        "\n",
        "    Retourne :\n",
        "    float : Le coût métier basé sur 10 * FN + FP.\n",
        "    \"\"\"\n",
        "    # Matrice de confusion : [[TN, FP], [FN, TP]]\n",
        "    tn, fp, fn, tp = confusion_matrix(y_true, y_pred).ravel()\n",
        "\n",
        "    # Calcul du coût métier\n",
        "    cost = 10 * fn + fp\n",
        "    return cost"
      ],
      "metadata": {
        "id": "-776r0eINnbn"
      },
      "execution_count": 50,
      "outputs": []
    },
    {
      "cell_type": "markdown",
      "source": [
        "# 1.Dummy Classifier"
      ],
      "metadata": {
        "id": "Dy2dDB6zNWyp"
      }
    },
    {
      "cell_type": "code",
      "source": [
        "dummy_clf = DummyClassifier(strategy=\"most_frequent\", random_state=42)\n",
        "\n",
        "dummy_clf.fit(X_Xtrain, y_train)\n",
        "\n",
        "# Prédictions\n",
        "y_pred = dummy_clf.predict(X_valid)\n",
        "y_prob = dummy_clf.predict_proba(X_valid)[:, 1]\n",
        "\n",
        "# Calcul des métriques\n",
        "accuracy = accuracy_score(y_valid, y_pred)\n",
        "roc_auc = roc_auc_score(y_valid, y_prob)\n",
        "f1 = f1_score(y_valid, y_pred)\n",
        "\n",
        "# Metric metier\n",
        "cost = business_cost(y_valid, y_pred)\n",
        "\n",
        "conf_matrix = confusion_matrix(y_valid, y_pred)\n",
        "\n",
        "print(f\"Metric accuray: {accuracy}\")\n",
        "print(f\"Metric roc_auc: {roc_auc}\")\n",
        "print(f\"Metric f1: {f1}\")\n",
        "print(f\"Metric Metier: {cost}\")\n",
        "\n",
        "print(f\"Matrice de confusion:\\n{conf_matrix}\")"
      ],
      "metadata": {
        "id": "PcSU9VGxNdl_",
        "outputId": "20dfdc68-7e8b-4988-b025-a8e2aafdef4a",
        "colab": {
          "base_uri": "https://localhost:8080/"
        }
      },
      "execution_count": 76,
      "outputs": [
        {
          "output_type": "stream",
          "name": "stdout",
          "text": [
            "Metric accuray: 0.9192663732737876\n",
            "Metric roc_auc: 0.5\n",
            "Metric f1: 0.0\n",
            "Metric Metier: 74480\n",
            "Matrice de confusion:\n",
            "[[84806     0]\n",
            " [ 7448     0]]\n"
          ]
        }
      ]
    },
    {
      "cell_type": "markdown",
      "source": [
        "# 2. XGBClassifier"
      ],
      "metadata": {
        "id": "2wG1icPoTABG"
      }
    },
    {
      "cell_type": "code",
      "source": [
        "# suite"
      ],
      "metadata": {
        "id": "FA3pMvT_S2i4"
      },
      "execution_count": 78,
      "outputs": []
    },
    {
      "cell_type": "markdown",
      "source": [
        "# 3. RandomForest"
      ],
      "metadata": {
        "id": "S3CznIvGWDFz"
      }
    },
    {
      "cell_type": "markdown",
      "source": [
        "# 4. Logistic Regression"
      ],
      "metadata": {
        "id": "ArMd4qibWL83"
      }
    }
  ]
}